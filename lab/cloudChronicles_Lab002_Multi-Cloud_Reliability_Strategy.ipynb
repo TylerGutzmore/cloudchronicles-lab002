{
 "cells": [
  {
   "cell_type": "markdown",
   "id": "3b3774b0",
   "metadata": {},
   "source": [
    "# 🧠 cloudChronicles Lab #002: Multi-Cloud Reliability Strategy\n",
    "\n",
    "**Lab Type:** Project  \n",
    "**Estimated Time:** 60–120 mins  \n",
    "**Skill Level:** Intermediate"
   ]
  },
  {
   "cell_type": "code",
   "execution_count": null,
   "id": "e56f6ec4",
   "metadata": {},
   "outputs": [],
   "source": [
    "# Let's begin by printing your name to personalize the notebook\n",
    "your_name = \"\"\n",
    "print(f\"Welcome to the lab, {your_name}!\")"
   ]
  },
  {
   "cell_type": "markdown",
   "id": "5892d5f6",
   "metadata": {},
   "source": [
    "## 🔍 STAR Method Lab Prompt\n",
    "\n",
    "**Situation:**  \n",
    "[Define your scenario here.]\n",
    "\n",
    "**Task:**  \n",
    "[Define what the user is expected to solve.]\n",
    "\n",
    "**Action:**  \n",
    "[Step-by-step instructions using GCP tools.]\n",
    "\n",
    "**Expected Result:**  \n",
    "[A defined deliverable such as a DR plan, diagram, MVP, etc.]"
   ]
  },
  {
   "cell_type": "markdown",
   "id": "24b34638",
   "metadata": {},
   "source": [
    "## ✍️ Your Assignment\n",
    "\n",
    "_Use this section to complete your deliverable:_\n",
    "\n",
    "```markdown\n",
    "(Example Format)\n",
    "\n",
    "- **Cloud Providers**: AWS (primary) + GCP (backup)  \n",
    "- **DNS Failover**: AWS Route 53 → GCP Load Balancer  \n",
    "- **Backup Sync**: Cloud Storage → S3 nightly sync  \n",
    "- **Architecture Diagram**: [Insert or attach diagram]  \n",
    "- **Risks Considered**: Latency between clouds, cost, operational overhead  \n",
    "```"
   ]
  }
 ],
 "metadata": {},
 "nbformat": 4,
 "nbformat_minor": 5
}
